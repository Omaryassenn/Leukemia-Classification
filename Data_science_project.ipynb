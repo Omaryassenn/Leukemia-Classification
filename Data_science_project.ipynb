{
  "nbformat": 4,
  "nbformat_minor": 0,
  "metadata": {
    "colab": {
      "provenance": [],
      "gpuType": "T4"
    },
    "kernelspec": {
      "name": "python3",
      "display_name": "Python 3"
    },
    "language_info": {
      "name": "python"
    },
    "accelerator": "GPU"
  },
  "cells": [
    {
      "cell_type": "markdown",
      "source": [
        "**Import needed modules**"
      ],
      "metadata": {
        "id": "hmTqMx4rtdu_"
      }
    },
    {
      "cell_type": "code",
      "source": [
        "# import system libs\n",
        "import os\n",
        "import time\n",
        "import shutil\n",
        "import pathlib\n",
        "import itertools\n",
        "\n",
        "# import data handling tools\n",
        "import cv2\n",
        "import numpy as np\n",
        "import pandas as pd\n",
        "import seaborn as sns\n",
        "sns.set_style('darkgrid')\n",
        "import matplotlib.pyplot as plt\n",
        "from sklearn.model_selection import train_test_split\n",
        "from sklearn.metrics import confusion_matrix, classification_report\n",
        "\n",
        "# import Deep learning Libraries\n",
        "import tensorflow as tf\n",
        "from tensorflow import keras\n",
        "from tensorflow.keras.models import Sequential\n",
        "from tensorflow.keras.optimizers import Adam, Adamax\n",
        "from tensorflow.keras.metrics import categorical_crossentropy\n",
        "from tensorflow.keras.preprocessing.image import ImageDataGenerator\n",
        "from tensorflow.keras.layers import Conv2D, MaxPooling2D, Flatten, Dense, Activation, Dropout, BatchNormalization\n",
        "from tensorflow.keras import regularizers\n",
        "\n",
        "# Ignore Warnings\n",
        "import warnings\n",
        "warnings.filterwarnings(\"ignore\")"
      ],
      "metadata": {
        "id": "9FoHqh7EtHuo"
      },
      "execution_count": null,
      "outputs": []
    },
    {
      "cell_type": "markdown",
      "source": [
        "**Create needed functions**\n"
      ],
      "metadata": {
        "id": "9ZMq4frWtg61"
      }
    },
    {
      "cell_type": "markdown",
      "source": [
        "Function to create data frame"
      ],
      "metadata": {
        "id": "DgY8ZbzftoxS"
      }
    },
    {
      "cell_type": "code",
      "source": [
        "# Generate data paths with labels\n",
        "def define_paths(dir):\n",
        "    filepaths = []\n",
        "    labels = []\n",
        "\n",
        "    folds = os.listdir(dir)\n",
        "    for fold in folds:\n",
        "        foldpath = os.path.join(dir, fold)\n",
        "        filelist = os.listdir(foldpath)\n",
        "\n",
        "        for fold_ in filelist:\n",
        "            foldpath_ = os.path.join(foldpath, fold_)\n",
        "            filelist_ = os.listdir(foldpath_)\n",
        "\n",
        "            for file_ in filelist_:\n",
        "                fpath = os.path.join(foldpath_, file_)\n",
        "                filepaths.append(fpath)\n",
        "                labels.append(fold_)\n",
        "\n",
        "    return filepaths, labels\n",
        "\n",
        "\n",
        "# Concatenate data paths with labels into one dataframe ( to later be fitted into the model )\n",
        "def define_df(files, classes):\n",
        "    Fseries = pd.Series(files, name= 'filepaths')\n",
        "    Lseries = pd.Series(classes, name='labels')\n",
        "    return pd.concat([Fseries, Lseries], axis= 1)\n",
        "\n",
        "\n",
        "# Function that create dataframe for train, validation, and test data\n",
        "def create_df(data_dir):\n",
        "\n",
        "    # train dataframe\n",
        "    files, classes = define_paths(data_dir)\n",
        "    df = define_df(files, classes)\n",
        "\n",
        "    strat = df['labels']\n",
        "    train_df, dummy_df = train_test_split(df, train_size=0.7, shuffle=True, random_state=123, stratify=strat)\n",
        "\n",
        "    # test dataframe\n",
        "    strat = dummy_df['labels']\n",
        "    valid_df, test_df= train_test_split(dummy_df, train_size=0.5, shuffle=True, random_state=123, stratify=strat)\n",
        "\n",
        "    return train_df, valid_df, test_df"
      ],
      "metadata": {
        "id": "Cd9y4gtPuGeg"
      },
      "execution_count": null,
      "outputs": []
    },
    {
      "cell_type": "markdown",
      "source": [
        "Function to generate images from dataframe"
      ],
      "metadata": {
        "id": "EnfWKOpSuKdt"
      }
    },
    {
      "cell_type": "code",
      "source": [
        "def create_model_data (train_df, valid_df, test_df, batch_size):\n",
        "    '''\n",
        "    This function takes train, validation, and test dataframe and fit them into image data generator, because model takes data from image data generator.\n",
        "    Image data generator converts images into tensors. '''\n",
        "\n",
        "\n",
        "    # define model parameters\n",
        "    img_size = (224, 224)\n",
        "    channels = 3 # either BGR or Grayscale\n",
        "    color = 'rgb'\n",
        "    img_shape = (img_size[0], img_size[1], channels)\n",
        "\n",
        "    # Recommended : use custom function for test data batch size, else we can use normal batch size.\n",
        "    ts_length = len(test_df)\n",
        "    test_batch_size = max(sorted([ts_length // n for n in range(1, ts_length + 1) if ts_length%n == 0 and ts_length/n <= 80]))\n",
        "    test_steps = ts_length // test_batch_size\n",
        "\n",
        "    # This function which will be used in image data generator for data augmentation, it just take the image and return it again.\n",
        "    def scalar(img):\n",
        "        return img\n",
        "\n",
        "    tr_gen = ImageDataGenerator(preprocessing_function= scalar, horizontal_flip= True)\n",
        "    ts_gen = ImageDataGenerator(preprocessing_function= scalar)\n",
        "\n",
        "    train_gen = tr_gen.flow_from_dataframe( train_df, x_col= 'filepaths', y_col= 'labels', target_size= img_size, class_mode= 'categorical',\n",
        "                                        color_mode= color, shuffle= True, batch_size= batch_size)\n",
        "\n",
        "    valid_gen = ts_gen.flow_from_dataframe( valid_df, x_col= 'filepaths', y_col= 'labels', target_size= img_size, class_mode= 'categorical',\n",
        "                                        color_mode= color, shuffle= True, batch_size= batch_size)\n",
        "\n",
        "    # Note: we will use custom test_batch_size, and make shuffle= false\n",
        "    test_gen = ts_gen.flow_from_dataframe( test_df, x_col= 'filepaths', y_col= 'labels', target_size= img_size, class_mode= 'categorical',\n",
        "                                        color_mode= color, shuffle= False, batch_size= test_batch_size)\n",
        "\n",
        "    return train_gen, valid_gen, test_gen"
      ],
      "metadata": {
        "id": "AxmS4Y35tWAu"
      },
      "execution_count": null,
      "outputs": []
    },
    {
      "cell_type": "markdown",
      "source": [
        "**Callbacks**\n",
        "\n",
        "**Callbacks** : Helpful functions to help optimize model training\n",
        "Examples: stop model training after specfic time, stop training if no improve in accuracy and so on."
      ],
      "metadata": {
        "id": "45oFnPA-uyq2"
      }
    },
    {
      "cell_type": "code",
      "source": [
        "class MyCallback(keras.callbacks.Callback):\n",
        "    def __init__(self, model, patience, stop_patience, threshold, factor, batches, epochs, ask_epoch):\n",
        "        super(MyCallback, self).__init__()\n",
        "        self.model = model\n",
        "        self.patience = patience # specifies how many epochs without improvement before learning rate is adjusted\n",
        "        self.stop_patience = stop_patience # specifies how many times to adjust lr without improvement to stop training\n",
        "        self.threshold = threshold # specifies training accuracy threshold when lr will be adjusted based on validation loss\n",
        "        self.factor = factor # factor by which to reduce the learning rate\n",
        "        self.batches = batches # number of training batch to run per epoch\n",
        "        self.epochs = epochs\n",
        "        self.ask_epoch = ask_epoch\n",
        "        self.ask_epoch_initial = ask_epoch # save this value to restore if restarting training\n",
        "\n",
        "        # callback variables\n",
        "        self.count = 0 # how many times lr has been reduced without improvement\n",
        "        self.stop_count = 0\n",
        "        self.best_epoch = 1   # epoch with the lowest loss\n",
        "        self.initial_lr = float(tf.keras.backend.get_value(model.optimizer.lr)) # get the initial learning rate and save it\n",
        "        self.highest_tracc = 0.0 # set highest training accuracy to 0 initially\n",
        "        self.lowest_vloss = np.inf # set lowest validation loss to infinity initially\n",
        "        self.best_weights = self.model.get_weights() # set best weights to model's initial weights\n",
        "        self.initial_weights = self.model.get_weights()   # save initial weights if they have to get restored\n",
        "\n",
        "\n",
        "    def on_train_begin(self, logs= None):\n",
        "        header = '{0:^8s}{1:^10s}{2:^9s}{3:^9s}{4:^9s}{5:^9s}{6:^9s}{7:^10s}{8:10s}{9:^8s}'.format('Epoch', 'Loss', 'Accuracy', 'V_loss', 'V_acc', 'LR', 'Next LR', 'Monitor','% Improv', 'Duration')\n",
        "        print(header)\n",
        "        self.start_time = time.time()\n",
        "\n",
        "    def on_epoch_begin(self, epoch, logs=None):\n",
        "        self.ep_start = time.time()\n",
        "\n",
        "     # Define method runs on the end of each epoch\n",
        "    def on_epoch_end(self, epoch, logs= None):\n",
        "        ep_end = time.time()\n",
        "        duration = ep_end - self.ep_start\n",
        "        lr = float(tf.keras.backend.get_value(self.model.optimizer.lr)) # get the current learning rate\n",
        "        current_lr = lr\n",
        "        acc = logs.get('accuracy')\n",
        "        v_acc = logs.get('val_accuracy')\n",
        "        loss = logs.get('loss')\n",
        "        v_loss = logs.get('val_loss')\n",
        "\n",
        "        if acc < self.threshold: # if training accuracy is below threshold adjust lr based on training accuracy\n",
        "            monitor = 'accuracy'\n",
        "            if epoch == 0:\n",
        "                pimprov = 0.0\n",
        "            else:\n",
        "                pimprov = (acc - self.highest_tracc ) * 100 / self.highest_tracc # define improvement of model progres\n",
        "\n",
        "            if acc > self.highest_tracc: # training accuracy improved in the epoch\n",
        "                self.highest_tracc = acc # set new highest training accuracy\n",
        "                self.best_weights = self.model.get_weights() # training accuracy improved so save the weights\n",
        "                self.count = 0 # set count to 0 since training accuracy improved\n",
        "                self.stop_count = 0 # set stop counter to 0\n",
        "                if v_loss < self.lowest_vloss:\n",
        "                    self.lowest_vloss = v_loss\n",
        "                self.best_epoch = epoch + 1  # set the value of best epoch for this epoch\n",
        "            else:\n",
        "                # training accuracy did not improve check if this has happened for patience number of epochs\n",
        "                # if so adjust learning rate\n",
        "                if self.count >= self.patience - 1: # lr should be adjusted\n",
        "                    lr = lr * self.factor # adjust the learning by factor\n",
        "                    tf.keras.backend.set_value(self.model.optimizer.lr, lr) # set the learning rate in the optimizer\n",
        "                    self.count = 0 # reset the count to 0\n",
        "                    self.stop_count = self.stop_count + 1 # count the number of consecutive lr adjustments\n",
        "                    self.count = 0 # reset counter\n",
        "                    if v_loss < self.lowest_vloss:\n",
        "                        self.lowest_vloss = v_loss\n",
        "                else:\n",
        "                    self.count = self.count + 1 # increment patience counter\n",
        "\n",
        "        else: # training accuracy is above threshold so adjust learning rate based on validation loss\n",
        "            monitor = 'val_loss'\n",
        "            if epoch == 0:\n",
        "                pimprov = 0.0\n",
        "\n",
        "            else:\n",
        "                pimprov = (self.lowest_vloss - v_loss ) * 100 / self.lowest_vloss\n",
        "\n",
        "            if v_loss < self.lowest_vloss: # check if the validation loss improved\n",
        "                self.lowest_vloss = v_loss # replace lowest validation loss with new validation loss\n",
        "                self.best_weights = self.model.get_weights() # validation loss improved so save the weights\n",
        "                self.count = 0 # reset count since validation loss improved\n",
        "                self.stop_count = 0\n",
        "                self.best_epoch = epoch + 1 # set the value of the best epoch to this epoch\n",
        "            else: # validation loss did not improve\n",
        "                if self.count >= self.patience - 1: # need to adjust lr\n",
        "                    lr = lr * self.factor # adjust the learning rate\n",
        "                    self.stop_count = self.stop_count + 1 # increment stop counter because lr was adjusted\n",
        "                    self.count = 0 # reset counter\n",
        "                    tf.keras.backend.set_value(self.model.optimizer.lr, lr) # set the learning rate in the optimizer\n",
        "\n",
        "                else:\n",
        "                    self.count = self.count + 1 # increment the patience counter\n",
        "\n",
        "                if acc > self.highest_tracc:\n",
        "                    self.highest_tracc = acc\n",
        "        msg = f'{str(epoch + 1):^3s}/{str(self.epochs):4s} {loss:^9.3f}{acc * 100:^9.3f}{v_loss:^9.5f}{v_acc * 100:^9.3f}{current_lr:^9.5f}{lr:^9.5f}{monitor:^11s}{pimprov:^10.2f}{duration:^8.2f}'\n",
        "        print(msg)\n",
        "\n",
        "        if self.stop_count > self.stop_patience - 1: # check if learning rate has been adjusted stop_count times with no improvement\n",
        "            msg = f' training has been halted at epoch {epoch + 1} after {self.stop_patience} adjustments of learning rate with no improvement'\n",
        "            print(msg)\n",
        "            self.model.stop_training = True # stop training"
      ],
      "metadata": {
        "id": "jyvFJBBAvNyC"
      },
      "execution_count": null,
      "outputs": []
    },
    {
      "cell_type": "markdown",
      "source": [
        "Function to plot history of training"
      ],
      "metadata": {
        "id": "NeLxXGAhvQ8X"
      }
    },
    {
      "cell_type": "code",
      "source": [
        "def plot_training(hist):\n",
        "    '''\n",
        "    This function take training model and plot history of accuracy and losses with the best epoch in both of them.\n",
        "    '''\n",
        "\n",
        "    # Define needed variables\n",
        "    tr_acc = hist.history['accuracy']\n",
        "    tr_loss = hist.history['loss']\n",
        "    val_acc = hist.history['val_accuracy']\n",
        "    val_loss = hist.history['val_loss']\n",
        "    index_loss = np.argmin(val_loss)\n",
        "    val_lowest = val_loss[index_loss]\n",
        "    index_acc = np.argmax(val_acc)\n",
        "    acc_highest = val_acc[index_acc]\n",
        "    Epochs = [i+1 for i in range(len(tr_acc))]\n",
        "    loss_label = f'best epoch= {str(index_loss + 1)}'\n",
        "    acc_label = f'best epoch= {str(index_acc + 1)}'\n",
        "\n",
        "    # Plot training history\n",
        "    plt.figure(figsize= (20, 8))\n",
        "    plt.style.use('fivethirtyeight')\n",
        "\n",
        "    plt.subplot(1, 2, 1)\n",
        "    plt.plot(Epochs, tr_loss, 'r', label= 'Training loss')\n",
        "    plt.plot(Epochs, val_loss, 'g', label= 'Validation loss')\n",
        "    plt.scatter(index_loss + 1, val_lowest, s= 150, c= 'blue', label= loss_label)\n",
        "    plt.title('Training and Validation Loss')\n",
        "    plt.xlabel('Epochs')\n",
        "    plt.ylabel('Loss')\n",
        "    plt.legend()\n",
        "\n",
        "    plt.subplot(1, 2, 2)\n",
        "    plt.plot(Epochs, tr_acc, 'r', label= 'Training Accuracy')\n",
        "    plt.plot(Epochs, val_acc, 'g', label= 'Validation Accuracy')\n",
        "    plt.scatter(index_acc + 1 , acc_highest, s= 150, c= 'blue', label= acc_label)\n",
        "    plt.title('Training and Validation Accuracy')\n",
        "    plt.xlabel('Epochs')\n",
        "    plt.ylabel('Accuracy')\n",
        "    plt.legend()\n",
        "\n",
        "    plt.tight_layout\n",
        "    plt.show()"
      ],
      "metadata": {
        "id": "U9Uqzie5vYso"
      },
      "execution_count": null,
      "outputs": []
    },
    {
      "cell_type": "markdown",
      "source": [
        "**Model Structure**"
      ],
      "metadata": {
        "id": "8UzYNIf3voa8"
      }
    },
    {
      "cell_type": "markdown",
      "source": [
        "Start Reading Dataset"
      ],
      "metadata": {
        "id": "OE94A3LdvwJB"
      }
    },
    {
      "cell_type": "code",
      "source": [
        "from google.colab import files\n",
        "from zipfile import ZipFile\n",
        "uploaded = files.upload()\n",
        "\n",
        "for fn in uploaded.keys():\n",
        "    print('User uploaded file \"{name}\" with length {length} bytes'.format(\n",
        "        name=fn, length=len(uploaded[fn])))\n",
        "\n",
        "!mkdir -p ~/.kaggle/ && mv kaggle.json ~/.kaggle/ && chmod 600 ~/.kaggle/kaggle.json\n",
        "\n",
        "!kaggle datasets download -d andrewmvd/leukemia-classification\n",
        "\n",
        "file_name = \"/content/leukemia-classification.zip\"\n",
        "with ZipFile(file_name, 'r') as zip:\n",
        "    zip.extractall()\n",
        "    print('Done unzipping files...')"
      ],
      "metadata": {
        "colab": {
          "base_uri": "https://localhost:8080/",
          "height": 160
        },
        "id": "k9uHvW6R17XM",
        "outputId": "ffb35499-6b57-4736-e0e2-2d64baebc4e2"
      },
      "execution_count": null,
      "outputs": [
        {
          "output_type": "display_data",
          "data": {
            "text/plain": [
              "<IPython.core.display.HTML object>"
            ],
            "text/html": [
              "\n",
              "     <input type=\"file\" id=\"files-cbcd2f38-be8c-444e-b95a-be5aab1b0877\" name=\"files[]\" multiple disabled\n",
              "        style=\"border:none\" />\n",
              "     <output id=\"result-cbcd2f38-be8c-444e-b95a-be5aab1b0877\">\n",
              "      Upload widget is only available when the cell has been executed in the\n",
              "      current browser session. Please rerun this cell to enable.\n",
              "      </output>\n",
              "      <script>// Copyright 2017 Google LLC\n",
              "//\n",
              "// Licensed under the Apache License, Version 2.0 (the \"License\");\n",
              "// you may not use this file except in compliance with the License.\n",
              "// You may obtain a copy of the License at\n",
              "//\n",
              "//      http://www.apache.org/licenses/LICENSE-2.0\n",
              "//\n",
              "// Unless required by applicable law or agreed to in writing, software\n",
              "// distributed under the License is distributed on an \"AS IS\" BASIS,\n",
              "// WITHOUT WARRANTIES OR CONDITIONS OF ANY KIND, either express or implied.\n",
              "// See the License for the specific language governing permissions and\n",
              "// limitations under the License.\n",
              "\n",
              "/**\n",
              " * @fileoverview Helpers for google.colab Python module.\n",
              " */\n",
              "(function(scope) {\n",
              "function span(text, styleAttributes = {}) {\n",
              "  const element = document.createElement('span');\n",
              "  element.textContent = text;\n",
              "  for (const key of Object.keys(styleAttributes)) {\n",
              "    element.style[key] = styleAttributes[key];\n",
              "  }\n",
              "  return element;\n",
              "}\n",
              "\n",
              "// Max number of bytes which will be uploaded at a time.\n",
              "const MAX_PAYLOAD_SIZE = 100 * 1024;\n",
              "\n",
              "function _uploadFiles(inputId, outputId) {\n",
              "  const steps = uploadFilesStep(inputId, outputId);\n",
              "  const outputElement = document.getElementById(outputId);\n",
              "  // Cache steps on the outputElement to make it available for the next call\n",
              "  // to uploadFilesContinue from Python.\n",
              "  outputElement.steps = steps;\n",
              "\n",
              "  return _uploadFilesContinue(outputId);\n",
              "}\n",
              "\n",
              "// This is roughly an async generator (not supported in the browser yet),\n",
              "// where there are multiple asynchronous steps and the Python side is going\n",
              "// to poll for completion of each step.\n",
              "// This uses a Promise to block the python side on completion of each step,\n",
              "// then passes the result of the previous step as the input to the next step.\n",
              "function _uploadFilesContinue(outputId) {\n",
              "  const outputElement = document.getElementById(outputId);\n",
              "  const steps = outputElement.steps;\n",
              "\n",
              "  const next = steps.next(outputElement.lastPromiseValue);\n",
              "  return Promise.resolve(next.value.promise).then((value) => {\n",
              "    // Cache the last promise value to make it available to the next\n",
              "    // step of the generator.\n",
              "    outputElement.lastPromiseValue = value;\n",
              "    return next.value.response;\n",
              "  });\n",
              "}\n",
              "\n",
              "/**\n",
              " * Generator function which is called between each async step of the upload\n",
              " * process.\n",
              " * @param {string} inputId Element ID of the input file picker element.\n",
              " * @param {string} outputId Element ID of the output display.\n",
              " * @return {!Iterable<!Object>} Iterable of next steps.\n",
              " */\n",
              "function* uploadFilesStep(inputId, outputId) {\n",
              "  const inputElement = document.getElementById(inputId);\n",
              "  inputElement.disabled = false;\n",
              "\n",
              "  const outputElement = document.getElementById(outputId);\n",
              "  outputElement.innerHTML = '';\n",
              "\n",
              "  const pickedPromise = new Promise((resolve) => {\n",
              "    inputElement.addEventListener('change', (e) => {\n",
              "      resolve(e.target.files);\n",
              "    });\n",
              "  });\n",
              "\n",
              "  const cancel = document.createElement('button');\n",
              "  inputElement.parentElement.appendChild(cancel);\n",
              "  cancel.textContent = 'Cancel upload';\n",
              "  const cancelPromise = new Promise((resolve) => {\n",
              "    cancel.onclick = () => {\n",
              "      resolve(null);\n",
              "    };\n",
              "  });\n",
              "\n",
              "  // Wait for the user to pick the files.\n",
              "  const files = yield {\n",
              "    promise: Promise.race([pickedPromise, cancelPromise]),\n",
              "    response: {\n",
              "      action: 'starting',\n",
              "    }\n",
              "  };\n",
              "\n",
              "  cancel.remove();\n",
              "\n",
              "  // Disable the input element since further picks are not allowed.\n",
              "  inputElement.disabled = true;\n",
              "\n",
              "  if (!files) {\n",
              "    return {\n",
              "      response: {\n",
              "        action: 'complete',\n",
              "      }\n",
              "    };\n",
              "  }\n",
              "\n",
              "  for (const file of files) {\n",
              "    const li = document.createElement('li');\n",
              "    li.append(span(file.name, {fontWeight: 'bold'}));\n",
              "    li.append(span(\n",
              "        `(${file.type || 'n/a'}) - ${file.size} bytes, ` +\n",
              "        `last modified: ${\n",
              "            file.lastModifiedDate ? file.lastModifiedDate.toLocaleDateString() :\n",
              "                                    'n/a'} - `));\n",
              "    const percent = span('0% done');\n",
              "    li.appendChild(percent);\n",
              "\n",
              "    outputElement.appendChild(li);\n",
              "\n",
              "    const fileDataPromise = new Promise((resolve) => {\n",
              "      const reader = new FileReader();\n",
              "      reader.onload = (e) => {\n",
              "        resolve(e.target.result);\n",
              "      };\n",
              "      reader.readAsArrayBuffer(file);\n",
              "    });\n",
              "    // Wait for the data to be ready.\n",
              "    let fileData = yield {\n",
              "      promise: fileDataPromise,\n",
              "      response: {\n",
              "        action: 'continue',\n",
              "      }\n",
              "    };\n",
              "\n",
              "    // Use a chunked sending to avoid message size limits. See b/62115660.\n",
              "    let position = 0;\n",
              "    do {\n",
              "      const length = Math.min(fileData.byteLength - position, MAX_PAYLOAD_SIZE);\n",
              "      const chunk = new Uint8Array(fileData, position, length);\n",
              "      position += length;\n",
              "\n",
              "      const base64 = btoa(String.fromCharCode.apply(null, chunk));\n",
              "      yield {\n",
              "        response: {\n",
              "          action: 'append',\n",
              "          file: file.name,\n",
              "          data: base64,\n",
              "        },\n",
              "      };\n",
              "\n",
              "      let percentDone = fileData.byteLength === 0 ?\n",
              "          100 :\n",
              "          Math.round((position / fileData.byteLength) * 100);\n",
              "      percent.textContent = `${percentDone}% done`;\n",
              "\n",
              "    } while (position < fileData.byteLength);\n",
              "  }\n",
              "\n",
              "  // All done.\n",
              "  yield {\n",
              "    response: {\n",
              "      action: 'complete',\n",
              "    }\n",
              "  };\n",
              "}\n",
              "\n",
              "scope.google = scope.google || {};\n",
              "scope.google.colab = scope.google.colab || {};\n",
              "scope.google.colab._files = {\n",
              "  _uploadFiles,\n",
              "  _uploadFilesContinue,\n",
              "};\n",
              "})(self);\n",
              "</script> "
            ]
          },
          "metadata": {}
        },
        {
          "output_type": "stream",
          "name": "stdout",
          "text": [
            "Saving kaggle.json to kaggle.json\n",
            "User uploaded file \"kaggle.json\" with length 68 bytes\n",
            "Downloading leukemia-classification.zip to /content\n",
            " 98% 852M/867M [00:09<00:00, 83.8MB/s]\n",
            "100% 867M/867M [00:09<00:00, 96.8MB/s]\n",
            "Done unzipping files...\n"
          ]
        }
      ]
    },
    {
      "cell_type": "code",
      "source": [
        "data_dir = '/content/C-NMC_Leukemia/training_data'\n",
        "try:\n",
        "    # Get splitted data\n",
        "    train_df, valid_df, test_df = create_df(data_dir)\n",
        "\n",
        "    # Get Generators\n",
        "    batch_size = 40\n",
        "    train_gen, valid_gen, test_gen = create_model_data(train_df, valid_df, test_df, batch_size)\n",
        "\n",
        "except:\n",
        "    print('Invalid Input')"
      ],
      "metadata": {
        "colab": {
          "base_uri": "https://localhost:8080/"
        },
        "id": "3wIK_veBwGQJ",
        "outputId": "27b88fd7-1e10-4f06-ea79-876e02aa6f79"
      },
      "execution_count": null,
      "outputs": [
        {
          "output_type": "stream",
          "name": "stdout",
          "text": [
            "Found 7462 validated image filenames belonging to 2 classes.\n",
            "Found 1599 validated image filenames belonging to 2 classes.\n",
            "Found 1600 validated image filenames belonging to 2 classes.\n"
          ]
        }
      ]
    },
    {
      "cell_type": "markdown",
      "source": [
        "**Pre-trained Model Creation**"
      ],
      "metadata": {
        "id": "Mmu28m0vwXHJ"
      }
    },
    {
      "cell_type": "code",
      "source": [
        "# Create Model Structure\n",
        "img_size = (224, 224)\n",
        "channels = 3\n",
        "img_shape = (img_size[0], img_size[1], channels)\n",
        "class_count = len(list(train_gen.class_indices.keys())) # to define number of classes in dense layer\n",
        "\n",
        "# create pre-trained model (you can built on pretrained model such as :  efficientnet, VGG , Resnet )\n",
        "# we will use efficientnetb3 from EfficientNet family.\n",
        "base_model = tf.keras.applications.efficientnet.EfficientNetB3(include_top= False, weights= \"imagenet\", input_shape= img_shape, pooling= 'max')\n",
        "\n",
        "pre_trained_model = Sequential([\n",
        "    base_model,\n",
        "    BatchNormalization(axis= -1, momentum= 0.99, epsilon= 0.001),\n",
        "    Dense(256, kernel_regularizer= regularizers.l2(l= 0.016), activity_regularizer= regularizers.l1(0.006),\n",
        "                bias_regularizer= regularizers.l1(0.006), activation= 'relu'),\n",
        "    Dropout(rate= 0.45, seed= 123),\n",
        "    Dense(class_count, activation= 'softmax')\n",
        "])\n",
        "\n",
        "pre_trained_model.compile(Adamax(learning_rate= 0.001), loss= 'categorical_crossentropy', metrics= ['accuracy'])\n",
        "\n",
        "pre_trained_model.summary()"
      ],
      "metadata": {
        "colab": {
          "base_uri": "https://localhost:8080/"
        },
        "id": "yqRk6_CTwdXJ",
        "outputId": "4484e930-1e92-4063-9606-3f2c4c3a0138"
      },
      "execution_count": null,
      "outputs": [
        {
          "output_type": "stream",
          "name": "stdout",
          "text": [
            "Downloading data from https://storage.googleapis.com/keras-applications/efficientnetb3_notop.h5\n",
            "43941136/43941136 [==============================] - 0s 0us/step\n",
            "Model: \"sequential\"\n",
            "_________________________________________________________________\n",
            " Layer (type)                Output Shape              Param #   \n",
            "=================================================================\n",
            " efficientnetb3 (Functional  (None, 1536)              10783535  \n",
            " )                                                               \n",
            "                                                                 \n",
            " batch_normalization (Batch  (None, 1536)              6144      \n",
            " Normalization)                                                  \n",
            "                                                                 \n",
            " dense (Dense)               (None, 256)               393472    \n",
            "                                                                 \n",
            " dropout (Dropout)           (None, 256)               0         \n",
            "                                                                 \n",
            " dense_1 (Dense)             (None, 2)                 514       \n",
            "                                                                 \n",
            "=================================================================\n",
            "Total params: 11183665 (42.66 MB)\n",
            "Trainable params: 11093290 (42.32 MB)\n",
            "Non-trainable params: 90375 (353.03 KB)\n",
            "_________________________________________________________________\n"
          ]
        }
      ]
    },
    {
      "cell_type": "markdown",
      "source": [
        "Set Callback Parameters"
      ],
      "metadata": {
        "id": "v1_RoMLEwiDa"
      }
    },
    {
      "cell_type": "code",
      "source": [
        "batch_size = 40   # set batch size for training\n",
        "patience = 1   #number of epochs to wait to adjust lr if monitored value does not improve\n",
        "stop_patience = 3   # number of epochs to wait before stopping training if monitored value does not improve\n",
        "threshold = 0.9   # if train accuracy is < threshold adjust monitor accuracy, else monitor validation loss\n",
        "factor = 0.5   # factor to reduce lr by\n",
        "ask_epoch = 5   # number of epochs to run before asking if you want to halt training\n",
        "batches = int(np.ceil(len(train_gen.labels) / batch_size))    # number of training batch to run per epoch\n",
        "\n",
        "callbacks = [MyCallback(model= pre_trained_model, patience= patience, stop_patience= stop_patience, threshold= threshold,\n",
        "            factor= factor, batches= batches, epochs= epochs, ask_epoch= ask_epoch )]"
      ],
      "metadata": {
        "id": "gVFtlM2UwkPf"
      },
      "execution_count": null,
      "outputs": []
    },
    {
      "cell_type": "markdown",
      "source": [
        "Train model"
      ],
      "metadata": {
        "id": "-yUTchdTwsl7"
      }
    },
    {
      "cell_type": "code",
      "source": [
        "history = pre_trained_model.fit(x= train_gen, epochs=5, verbose= 0, callbacks= callbacks,\n",
        "                    validation_data= valid_gen, validation_steps= None, shuffle= False)"
      ],
      "metadata": {
        "colab": {
          "base_uri": "https://localhost:8080/"
        },
        "id": "1TSC1uvnw9v5",
        "outputId": "ef92f3e8-bc02-4658-b727-4cadd40e5765"
      },
      "execution_count": null,
      "outputs": [
        {
          "output_type": "stream",
          "name": "stdout",
          "text": [
            " Epoch     Loss   Accuracy  V_loss    V_acc     LR     Next LR  Monitor  % Improv  Duration\n",
            " 1 /40     0.128   99.451   0.21013  96.560   0.00006  0.00006  val_loss     0.00    125.27 \n",
            " 2 /40     0.123   99.558   0.20883  96.373   0.00006  0.00006  val_loss     0.62    125.29 \n",
            " 3 /40     0.123   99.477   0.20784  96.060   0.00006  0.00006  val_loss     0.47    127.19 \n",
            " 4 /40     0.120   99.518   0.20339  96.248   0.00006  0.00006  val_loss     2.14    125.64 \n",
            " 5 /40     0.118   99.558   0.19978  96.685   0.00006  0.00006  val_loss     1.77    125.56 \n"
          ]
        }
      ]
    },
    {
      "cell_type": "markdown",
      "source": [
        "Display model performance"
      ],
      "metadata": {
        "id": "TjGPongjxDGD"
      }
    },
    {
      "cell_type": "code",
      "source": [
        "plot_training(history)"
      ],
      "metadata": {
        "colab": {
          "base_uri": "https://localhost:8080/",
          "height": 735
        },
        "id": "D4vBwbRIxKsq",
        "outputId": "0642b715-c405-48cc-82b4-3960b0822c13"
      },
      "execution_count": null,
      "outputs": [
        {
          "output_type": "display_data",
          "data": {
            "text/plain": [
              "<Figure size 2000x800 with 2 Axes>"
            ],
            "image/png": "[encoded data removed]"
          },
          "metadata": {}
        }
      ]
    },
    {
      "cell_type": "markdown",
      "source": [
        "Evaluate model"
      ],
      "metadata": {
        "id": "XGtEqtG0xSLR"
      }
    },
    {
      "cell_type": "code",
      "source": [
        "ts_length = len(test_df)\n",
        "test_batch_size = test_batch_size = max(sorted([ts_length // n for n in range(1, ts_length + 1) if ts_length%n == 0 and ts_length/n <= 80]))\n",
        "test_steps = ts_length // test_batch_size\n",
        "\n",
        "train_score = pre_trained_model.evaluate(train_gen, steps= test_steps, verbose= 1)\n",
        "valid_score = pre_trained_model.evaluate(valid_gen, steps= test_steps, verbose= 1)\n",
        "test_score = pre_trained_model.evaluate(test_gen, steps= test_steps, verbose= 1)\n",
        "\n",
        "print(\"Train Loss: \", train_score[0])\n",
        "print(\"Train Accuracy: \", train_score[1])\n",
        "print('-' * 20)\n",
        "print(\"Validation Loss: \", valid_score[0])\n",
        "print(\"Validation Accuracy: \", valid_score[1])\n",
        "print('-' * 20)\n",
        "print(\"Test Loss: \", test_score[0])\n",
        "print(\"Test Accuracy: \", test_score[1])"
      ],
      "metadata": {
        "colab": {
          "base_uri": "https://localhost:8080/"
        },
        "id": "HtyXqp8QxVZI",
        "outputId": "7f68b949-5553-48d8-e937-0d77b09f726e"
      },
      "execution_count": null,
      "outputs": [
        {
          "output_type": "stream",
          "name": "stdout",
          "text": [
            "20/20 [==============================] - 4s 193ms/step - loss: 0.0960 - accuracy: 1.0000\n",
            "20/20 [==============================] - 3s 145ms/step - loss: 0.1960 - accuracy: 0.9675\n",
            "20/20 [==============================] - 11s 410ms/step - loss: 0.2469 - accuracy: 0.9506\n",
            "Train Loss:  0.09599915146827698\n",
            "Train Accuracy:  1.0\n",
            "--------------------\n",
            "Validation Loss:  0.1959516704082489\n",
            "Validation Accuracy:  0.9674999713897705\n",
            "--------------------\n",
            "Test Loss:  0.24687160551548004\n",
            "Test Accuracy:  0.9506250023841858\n"
          ]
        }
      ]
    },
    {
      "cell_type": "markdown",
      "source": [
        "Get Predictions"
      ],
      "metadata": {
        "id": "rj2CvTohxc9p"
      }
    },
    {
      "cell_type": "code",
      "source": [
        "preds = pre_trained_model.predict(test_gen)\n",
        "y_pred = np.argmax(preds, axis=1)\n",
        "print(y_pred)"
      ],
      "metadata": {
        "colab": {
          "base_uri": "https://localhost:8080/"
        },
        "id": "2UTUhysjxsaC",
        "outputId": "a558a6b0-de47-4b03-d5ee-7eabe44de879"
      },
      "execution_count": null,
      "outputs": [
        {
          "output_type": "stream",
          "name": "stdout",
          "text": [
            "20/20 [==============================] - 46s 278ms/step\n",
            "[0 0 0 ... 1 1 0]\n"
          ]
        }
      ]
    },
    {
      "cell_type": "markdown",
      "source": [
        "Confusion Matrics and Classification Report"
      ],
      "metadata": {
        "id": "u5c232R8xxOk"
      }
    },
    {
      "cell_type": "code",
      "source": [
        "g_dict = test_gen.class_indices\n",
        "classes = list(g_dict.keys())\n",
        "\n",
        "# Confusion matrix\n",
        "cm = confusion_matrix(test_gen.classes, y_pred)\n",
        "\n",
        "# Classification report\n",
        "print(classification_report(test_gen.classes, y_pred, target_names= classes))"
      ],
      "metadata": {
        "colab": {
          "base_uri": "https://localhost:8080/"
        },
        "id": "VOvxA58rx5lR",
        "outputId": "e1b2bf82-b110-423c-acf3-a61f0270d90e"
      },
      "execution_count": null,
      "outputs": [
        {
          "output_type": "stream",
          "name": "stdout",
          "text": [
            "              precision    recall  f1-score   support\n",
            "\n",
            "         all       0.95      0.98      0.96      1091\n",
            "         hem       0.95      0.90      0.92       509\n",
            "\n",
            "    accuracy                           0.95      1600\n",
            "   macro avg       0.95      0.94      0.94      1600\n",
            "weighted avg       0.95      0.95      0.95      1600\n",
            "\n"
          ]
        }
      ]
    },
    {
      "cell_type": "markdown",
      "source": [
        "**Model From Scratch**"
      ],
      "metadata": {
        "id": "wYgYeTgs5KE8"
      }
    },
    {
      "cell_type": "code",
      "source": [
        "# from keras.layers import Conv2D\n",
        "# from tensorflow.keras.layers import MaxPooling2D\n",
        "# from tensorflow.keras.optimizers import Adam\n",
        "\n",
        "\n",
        "# Create Model Structure\n",
        "img_size = (224, 224)\n",
        "channels = 3\n",
        "img_shape = (img_size[0], img_size[1], channels)\n",
        "class_count = len(list(train_gen.class_indices.keys())) # to define number of classes in dense layer\n",
        "\n",
        "\n",
        "# Model Definition:\n",
        "model = Sequential()\n",
        "\n",
        "model.add(Conv2D(32, (3, 3), activation='relu', input_shape=img_shape))\n",
        "model.add(MaxPooling2D(pool_size=(2, 2)))\n",
        "\n",
        "model.add(Conv2D(64, (3, 3), activation='relu'))\n",
        "model.add(MaxPooling2D(pool_size=(2, 2)))\n",
        "\n",
        "model.add(Conv2D(128, (3, 3), activation='relu'))\n",
        "model.add(MaxPooling2D(pool_size=(2, 2)))\n",
        "\n",
        "model.add(Conv2D(256, (3, 3), activation='relu'))\n",
        "model.add(MaxPooling2D(pool_size=(2, 2)))\n",
        "\n",
        "model.add(Flatten())\n",
        "\n",
        "model = Sequential([\n",
        "    model,\n",
        "    BatchNormalization(axis= -1, momentum= 0.99, epsilon= 0.001),\n",
        "    Dense(256, kernel_regularizer= regularizers.l2(l= 0.016), activity_regularizer= regularizers.l1(0.006),\n",
        "                bias_regularizer= regularizers.l1(0.006), activation= 'relu'),\n",
        "    Dropout(rate= 0.45, seed= 123),\n",
        "    Dense(class_count, activation= 'softmax')\n",
        "])\n",
        "\n",
        "\n",
        "# model.add(Dense(512, activation='relu'))\n",
        "# model.add(Dropout(0.45))\n",
        "\n",
        "# model.add(Dense(256, activation='relu'))\n",
        "# model.add(Dropout(0.45))\n",
        "\n",
        "# model.add(Dense(class_count, activation='softmax'))\n",
        "\n",
        "\n",
        "model.compile(Adamax(learning_rate= 0.001), loss= 'categorical_crossentropy', metrics= ['accuracy'])\n",
        "\n",
        "model.summary()"
      ],
      "metadata": {
        "id": "yJkNooTm5NLU",
        "colab": {
          "base_uri": "https://localhost:8080/"
        },
        "outputId": "1b0527d7-5607-4c57-bdcd-67531d405c53"
      },
      "execution_count": null,
      "outputs": [
        {
          "output_type": "stream",
          "name": "stdout",
          "text": [
            "Model: \"sequential_2\"\n",
            "_________________________________________________________________\n",
            " Layer (type)                Output Shape              Param #   \n",
            "=================================================================\n",
            " sequential_1 (Sequential)   (None, 36864)             388416    \n",
            "                                                                 \n",
            " batch_normalization_1 (Bat  (None, 36864)             147456    \n",
            " chNormalization)                                                \n",
            "                                                                 \n",
            " dense_2 (Dense)             (None, 256)               9437440   \n",
            "                                                                 \n",
            " dropout_1 (Dropout)         (None, 256)               0         \n",
            "                                                                 \n",
            " dense_3 (Dense)             (None, 2)                 514       \n",
            "                                                                 \n",
            "=================================================================\n",
            "Total params: 9973826 (38.05 MB)\n",
            "Trainable params: 9900098 (37.77 MB)\n",
            "Non-trainable params: 73728 (288.00 KB)\n",
            "_________________________________________________________________\n"
          ]
        }
      ]
    },
    {
      "cell_type": "code",
      "source": [
        "batch_size = 40   # set batch size for training\n",
        "epochs = 40   # number of all epochs in training\n",
        "patience = 1   #number of epochs to wait to adjust lr if monitored value does not improve\n",
        "stop_patience = 3   # number of epochs to wait before stopping training if monitored value does not improve\n",
        "threshold = 0.9   # if train accuracy is < threshold adjust monitor accuracy, else monitor validation loss\n",
        "factor = 0.5   # factor to reduce lr by\n",
        "ask_epoch = 5   # number of epochs to run before asking if you want to halt training\n",
        "batches = int(np.ceil(len(train_gen.labels) / batch_size))    # number of training batch to run per epoch\n",
        "\n",
        "callbacks = [MyCallback(model= model, patience= patience, stop_patience= stop_patience, threshold= threshold,\n",
        "            factor= factor, batches= batches, epochs= epochs, ask_epoch= ask_epoch )]"
      ],
      "metadata": {
        "id": "EXUlvtm35eyb"
      },
      "execution_count": null,
      "outputs": []
    },
    {
      "cell_type": "code",
      "source": [
        "history = model.fit(x= train_gen, epochs= epochs, verbose= 0, callbacks= callbacks,\n",
        "                    validation_data= valid_gen, validation_steps= None, shuffle= False)"
      ],
      "metadata": {
        "id": "JDCGPLmM5fsq",
        "colab": {
          "base_uri": "https://localhost:8080/"
        },
        "outputId": "c783bf58-fdd9-45e6-c5fa-b47544f78081"
      },
      "execution_count": null,
      "outputs": [
        {
          "output_type": "stream",
          "name": "stdout",
          "text": [
            " Epoch     Loss   Accuracy  V_loss    V_acc     LR     Next LR  Monitor  % Improv  Duration\n",
            " 1 /40     5.408   76.521   4.04718  73.108   0.00100  0.00100  accuracy     0.00    48.09  \n",
            " 2 /40     2.505   81.895   3.11897  68.418   0.00100  0.00100  accuracy     7.02    52.01  \n",
            " 3 /40     1.676   82.538   1.49144  79.049   0.00100  0.00100  accuracy     0.79    46.75  \n",
            " 4 /40     1.196   84.146   1.36709  75.985   0.00100  0.00100  accuracy     1.95    50.15  \n",
            " 5 /40     0.895   85.165   0.90490  80.675   0.00100  0.00100  accuracy     1.21    48.45  \n",
            " 6 /40     0.713   85.754   1.27887  49.844   0.00100  0.00100  accuracy     0.69    49.45  \n",
            " 7 /40     0.599   86.733   0.62286  83.302   0.00100  0.00100  accuracy     1.14    48.32  \n",
            " 8 /40     0.526   87.135   0.58449  84.490   0.00100  0.00100  accuracy     0.46    47.08  \n",
            " 9 /40     0.484   87.108   0.54336  83.052   0.00100  0.00050  accuracy    -0.03    47.50  \n",
            "10 /40     0.434   88.555   0.75817  76.423   0.00050  0.00050  accuracy     1.63    47.93  \n",
            "11 /40     0.407   89.373   1.20886  51.595   0.00050  0.00050  accuracy     0.92    48.58  \n",
            "12 /40     0.387   89.400   0.47846  85.178   0.00050  0.00050  accuracy     0.03    50.24  \n",
            "13 /40     0.376   90.244   2.38246  68.981   0.00050  0.00025  val_loss   -397.94   50.46  \n",
            "14 /40     0.350   90.700   0.77405  68.418   0.00025  0.00013  val_loss    -61.78   49.27  \n",
            "15 /40     0.328   91.906   0.42148  87.367   0.00013  0.00013  val_loss    11.91    48.44  \n",
            "16 /40     0.319   92.401   0.53494  81.176   0.00013  0.00006  val_loss    -26.92   47.91  \n",
            "17 /40     0.303   92.656   0.45559  85.053   0.00006  0.00003  val_loss    -8.09    47.15  \n",
            "18 /40     0.297   93.366   0.34738  90.932   0.00003  0.00003  val_loss    17.58    47.96  \n",
            "19 /40     0.289   93.688   0.38557  89.118   0.00003  0.00002  val_loss    -10.99   47.22  \n",
            "20 /40     0.290   93.447   0.35293  90.432   0.00002  0.00001  val_loss    -1.60    46.87  \n",
            "21 /40     0.291   93.567   0.35013  90.807   0.00001  0.00000  val_loss    -0.79    48.29  \n",
            " training has been halted at epoch 21 after 3 adjustments of learning rate with no improvement\n"
          ]
        }
      ]
    },
    {
      "cell_type": "code",
      "source": [
        "ts_length = len(test_df)\n",
        "test_batch_size = test_batch_size = max(sorted([ts_length // n for n in range(1, ts_length + 1) if ts_length%n == 0 and ts_length/n <= 80]))\n",
        "test_steps = ts_length // test_batch_size\n",
        "\n",
        "train_score = model.evaluate(train_gen, steps= test_steps, verbose= 1)\n",
        "valid_score = model.evaluate(valid_gen, steps= test_steps, verbose= 1)\n",
        "test_score = model.evaluate(test_gen, steps= test_steps, verbose= 1)\n",
        "\n",
        "print(\"Train Loss: \", train_score[0])\n",
        "print(\"Train Accuracy: \", train_score[1])\n",
        "print('-' * 20)\n",
        "print(\"Validation Loss: \", valid_score[0])\n",
        "print(\"Validation Accuracy: \", valid_score[1])\n",
        "print('-' * 20)\n",
        "print(\"Test Loss: \", test_score[0])\n",
        "print(\"Test Accuracy: \", test_score[1])"
      ],
      "metadata": {
        "id": "dOcE6t3r5iHM",
        "colab": {
          "base_uri": "https://localhost:8080/"
        },
        "outputId": "7761991d-3aaf-4db6-9752-3539edef3ddb"
      },
      "execution_count": null,
      "outputs": [
        {
          "output_type": "stream",
          "name": "stdout",
          "text": [
            "20/20 [==============================] - 4s 189ms/step - loss: 0.2672 - accuracy: 0.9400\n",
            "20/20 [==============================] - 5s 265ms/step - loss: 0.3454 - accuracy: 0.9062\n",
            "20/20 [==============================] - 4s 161ms/step - loss: 0.3779 - accuracy: 0.8969\n",
            "Train Loss:  0.2671939730644226\n",
            "Train Accuracy:  0.9399999976158142\n",
            "--------------------\n",
            "Validation Loss:  0.34539321064949036\n",
            "Validation Accuracy:  0.90625\n",
            "--------------------\n",
            "Test Loss:  0.37790337204933167\n",
            "Test Accuracy:  0.8968750238418579\n"
          ]
        }
      ]
    },
    {
      "cell_type": "code",
      "source": [
        "preds = model.predict_generator(test_gen)\n",
        "y_pred = np.argmax(preds, axis=1)\n",
        "print(y_pred)"
      ],
      "metadata": {
        "id": "_GmO6iHt5mAX",
        "colab": {
          "base_uri": "https://localhost:8080/"
        },
        "outputId": "1e224334-8cbb-4bb2-bad1-19f0d9daa6fe"
      },
      "execution_count": null,
      "outputs": [
        {
          "output_type": "stream",
          "name": "stdout",
          "text": [
            "[0 1 0 ... 0 1 0]\n"
          ]
        }
      ]
    },
    {
      "cell_type": "code",
      "source": [
        "g_dict = test_gen.class_indices\n",
        "classes = list(g_dict.keys())\n",
        "\n",
        "# Confusion matrix\n",
        "cm = confusion_matrix(test_gen.classes, y_pred)\n",
        "\n",
        "# Classification report\n",
        "print(classification_report(test_gen.classes, y_pred, target_names= classes))"
      ],
      "metadata": {
        "id": "l1RuSDGV5pJG",
        "colab": {
          "base_uri": "https://localhost:8080/"
        },
        "outputId": "cac928bd-0a13-4af6-c4be-35b711a3220c"
      },
      "execution_count": null,
      "outputs": [
        {
          "output_type": "stream",
          "name": "stdout",
          "text": [
            "              precision    recall  f1-score   support\n",
            "\n",
            "         all       0.91      0.94      0.93      1091\n",
            "         hem       0.87      0.80      0.83       509\n",
            "\n",
            "    accuracy                           0.90      1600\n",
            "   macro avg       0.89      0.87      0.88      1600\n",
            "weighted avg       0.90      0.90      0.90      1600\n",
            "\n"
          ]
        }
      ]
    }
  ]
}